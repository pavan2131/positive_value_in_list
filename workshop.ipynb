{
  "nbformat": 4,
  "nbformat_minor": 0,
  "metadata": {
    "colab": {
      "name": "workshop.ipynb",
      "provenance": [],
      "authorship_tag": "ABX9TyOxiAxGB7vPCTCvMI23AFk0",
      "include_colab_link": true
    },
    "kernelspec": {
      "name": "python3",
      "display_name": "Python 3"
    }
  },
  "cells": [
    {
      "cell_type": "markdown",
      "metadata": {
        "id": "view-in-github",
        "colab_type": "text"
      },
      "source": [
        "<a href=\"https://colab.research.google.com/github/pavan2131/positive_value_in_list/blob/master/workshop.ipynb\" target=\"_parent\"><img src=\"https://colab.research.google.com/assets/colab-badge.svg\" alt=\"Open In Colab\"/></a>"
      ]
    },
    {
      "cell_type": "code",
      "metadata": {
        "id": "FOs8F2_BVYuJ",
        "colab_type": "code",
        "colab": {
          "base_uri": "https://localhost:8080/",
          "height": 34
        },
        "outputId": "dfef5ea8-da58-463c-db00-729fa81f390c"
      },
      "source": [
        "list1 =[12, -7, 5, 64, -14]\n",
        "num = 0\n",
        "while(num < len(list1)): \n",
        "    if list1[num] >= 0: \n",
        "        print(list1[num], end = \" \") \n",
        "    num += 1"
      ],
      "execution_count": 10,
      "outputs": [
        {
          "output_type": "stream",
          "text": [
            "12 5 64 "
          ],
          "name": "stdout"
        }
      ]
    },
    {
      "cell_type": "code",
      "metadata": {
        "id": "fHNQievUWozc",
        "colab_type": "code",
        "colab": {
          "base_uri": "https://localhost:8080/",
          "height": 34
        },
        "outputId": "8e9bec2b-0778-4cfc-f898-859d641cfe01"
      },
      "source": [
        "list2 = [12, 14, -95, 3]\n",
        "l = []\n",
        "num = 0\n",
        "while(num < len(list2)): \n",
        "    if list2[num] >= 0: \n",
        "         l.append(list2[num]) \n",
        "    num += 1\n",
        "print(l)"
      ],
      "execution_count": 6,
      "outputs": [
        {
          "output_type": "stream",
          "text": [
            "[12, 14, 3]\n"
          ],
          "name": "stdout"
        }
      ]
    }
  ]
}